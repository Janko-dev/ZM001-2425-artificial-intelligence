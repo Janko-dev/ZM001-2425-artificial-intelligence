{
 "cells": [
  {
   "cell_type": "markdown",
   "metadata": {},
   "source": [
    "# Recurrent Neural Networks\n",
    "\n",
    "RNNs are a family of neural networks for processing sequential data. \n",
    "\n",
    "We have seen how convolutional neural networks are specialized in processing a grid of values $X$. In the same way, RNNs are specialized in processing a sequence of values $x^{(1)}, x^{(2)}, \\dots, x^{(\\tau)}$. \n",
    "\n",
    "To go from MLP to RNN, we again need to take advantage of parameter sharing so that we can process sequences of arbitrary length (just like we did with CNNs for images of arbitrary size). In other words, if we used an MLP, the input layer has a fixed dimensionality, which we do not want. Some sequences may be shorter or longer than other sequences. \n",
    "\n",
    "Of course, we could use a 1-D convolution operation on a sequence of data, for which parameter sharing is still applied and this approach is scalable to arbitrary sequence lengths. This is actually the basis for [time-delay networks](https://en.wikipedia.org/wiki/Time_delay_neural_network). However, this type of parameter sharing is not the same as that of RNNs. Using a 1-D convolution means that the output is a product of the input and a small neighbourhood around the input at each time point of the sequence. RNNs instead compute the output based on every single input that came before a specific time step. "
   ]
  },
  {
   "cell_type": "code",
   "execution_count": 1,
   "metadata": {
    "ExecuteTime": {
     "end_time": "2024-02-28T22:41:59.185389Z",
     "start_time": "2024-02-28T22:41:56.863430Z"
    }
   },
   "outputs": [],
   "source": [
    "import torch\n",
    "from torch import nn\n",
    "from torch.nn import functional as F\n",
    "import matplotlib.pyplot as plt\n",
    "import numpy as np"
   ]
  },
  {
   "cell_type": "markdown",
   "metadata": {},
   "source": [
    "## Basic RNN module\n",
    "\n",
    "Maps input sequence to output sequence using update equations for each time step $t=1$ to $t = \\tau$\n",
    "\\begin{align*}\n",
    "    \\textbf{a}^{(t)} &= \\textbf{b} + \\textbf{W}\\;\\textbf{h}^{(t-1)} + \\textbf{U}\\;\\textbf{x}^{(t)}\\\\\n",
    "    \\textbf{h}^{(t)} &= \\text{tanh}(\\textbf{a}^{(t)})\\\\\n",
    "    \\hat{\\textbf{y}}^{(t)} &= \\textbf{c} + \\textbf{V}\\;\\textbf{h}^{(t)}\n",
    "\\end{align*}\n",
    "for \n",
    "- shared bias vectors $\\textbf{b}, \\textbf{c}$\n",
    "- shared weight matrices:\n",
    "  - $\\textbf{W}$: hidden-to-hidden weights\n",
    "  - $\\textbf{U}$: input-to-hidden\n",
    "  - $\\textbf{V}$: hidden-to-output\n",
    "- and input vectors $\\textbf{x} \\in \\textbf{X}$\n",
    "\n",
    "PyTorch handles the mathematics in an efficient way. In the following we define a custom torch module that contains the RNN as well as a linear layer followed by a softmax layer. This allows us to output a distribution of possible outputs for each sequence.   "
   ]
  },
  {
   "cell_type": "code",
   "execution_count": 7,
   "metadata": {},
   "outputs": [],
   "source": [
    "class MyRNN(nn.Module):\n",
    "    def __init__(self, \n",
    "                 num_inputs: int, \n",
    "                 num_hidden: int, \n",
    "                 num_outputs: int, \n",
    "                 n_layers: int,\n",
    "                 dropout: float = 0.5) -> None:\n",
    "        super().__init__()\n",
    "        ##############################\n",
    "        ### use nn.RNN to define a RNN module \n",
    "        ### with batch_first=True\n",
    "        ### and other parameters  \n",
    "        ### write code here\n",
    "        ##############################\n",
    "        self.out_layer = nn.LazyLinear(num_outputs)\n",
    "    \n",
    "    def forward(self, X: torch.Tensor, H: torch.Tensor = None):\n",
    "        ##############################\n",
    "        ### run RNN module supplied with X and H\n",
    "        ### to get outputs and a new H\n",
    "        ### write code here\n",
    "        ##############################\n",
    "        output, H = None, H\n",
    "        return self.out_layer(output), H"
   ]
  },
  {
   "cell_type": "code",
   "execution_count": 8,
   "metadata": {},
   "outputs": [
    {
     "name": "stderr",
     "output_type": "stream",
     "text": [
      "c:\\Users\\janba\\anaconda3\\envs\\workspace_jan\\Lib\\site-packages\\torch\\nn\\modules\\lazy.py:181: UserWarning: Lazy modules are a new feature under heavy development so changes to the API or functionality can happen at any moment.\n",
      "  warnings.warn('Lazy modules are a new feature under heavy development '\n"
     ]
    },
    {
     "data": {
      "text/plain": [
       "(torch.Size([32, 50, 1]), torch.Size([32, 50, 5]), torch.Size([3, 32, 20]))"
      ]
     },
     "execution_count": 8,
     "metadata": {},
     "output_type": "execute_result"
    }
   ],
   "source": [
    "rnn = MyRNN(\n",
    "    num_inputs=1,\n",
    "    num_hidden=20,\n",
    "    num_outputs=5,\n",
    "    n_layers=3\n",
    ")\n",
    "\n",
    "batch_size, seq_len, n_inputs = 32, 50, 1\n",
    "x = torch.randn(batch_size, seq_len, n_inputs)\n",
    "\n",
    "y, h = rnn(x)\n",
    "\n",
    "x.shape, y.shape, h.shape"
   ]
  },
  {
   "cell_type": "markdown",
   "metadata": {},
   "source": [
    "## Sequence Dataset\n",
    "\n",
    "Since we operate on sequences when using RNNs, we will be using a dataset where the data is ordered sequentially. \n",
    "\n",
    "Specifically, to showcase how to use RNNs, we will use a simple noisy sine wave as our time series. We denote the sequence length of the input sequence by $\\tau$. \n",
    "\n",
    "- `src_X`: source input covariate sequence (simple enumeration for now $[\\textbf{x}^{(0)}, \\textbf{x}^{(1)}, \\dots, \\textbf{x}^{(T)}]$)\n",
    "\n",
    "- `src_fX`: source input feature sequence (simple noisy sine wave $[\\textbf{y}^{(0)}, \\textbf{y}^{(1)}, \\dots, \\textbf{y}^{(T)}]$)\n",
    "\n",
    "- `tgt_X`: source target covariate sequence (simple enumeration for now $[\\textbf{x}^{(T+1)}, \\textbf{x}^{(T+2)}, \\dots, \\textbf{x}^{(T+\\tau)}]$)\n",
    "\n",
    "- `tgt_fX`: source input feature sequence (simple noisy sine wave $[\\textbf{y}^{(T+1)}, \\textbf{y}^{(T+2)}, \\dots, \\textbf{y}^{(T+\\tau)}]$)\n",
    "\n",
    "Our learning problem becomes the following: \n",
    "\n",
    "Given `src_fX`, we want to predict `tgt_fX`, or in other words:\n",
    "$$\n",
    "    [\\hat{\\textbf{y}}^{(T)}, \\hat{\\textbf{y}}^{(T+1)}, \\dots, \\hat{\\textbf{y}}^{(T+\\tau)}] = \\text{RNN}(\\textbf{y}^{(0)}, \\textbf{y}^{(1)}, \\dots, \\textbf{y}^{(T)})\n",
    "$$\n",
    "\n",
    "Of course, a more sophisticated sequence model would consider both `src_X` and `src_fX` by aggregating these vectors and feeding it in the model. However, for simplicity, we will only use the feature sequence and only predict the feature sequence. "
   ]
  },
  {
   "cell_type": "code",
   "execution_count": 9,
   "metadata": {},
   "outputs": [],
   "source": [
    "from torch.utils.data import Dataset\n",
    "\n",
    "# base class for an arbitrary sequence dataset\n",
    "# key idea: samples are generated by sliding window over the entire sequence\n",
    "class TimeSeriesDataset(Dataset):\n",
    "    def __init__(\n",
    "        self,\n",
    "        X: torch.Tensor,\n",
    "        fX: torch.Tensor,\n",
    "        seq_len: int,\n",
    "        shift: int\n",
    "    ):\n",
    "        \"\"\"\n",
    "        :param X: time steps (covariates)\n",
    "        :param fX: features per time step\n",
    "        :param seq_len: length of each sequence example in dataset\n",
    "        :param shift: number of steps to shift the target values\n",
    "        \"\"\"\n",
    "        self.seq_len = seq_len\n",
    "        self.shift = shift\n",
    "        self.X = X\n",
    "        self.fX = fX\n",
    "\n",
    "    def __getitem__(self, index):\n",
    "\n",
    "        sample = (\n",
    "            self.X[index : index + self.seq_len],\n",
    "            self.fX[index : index + self.seq_len],\n",
    "            self.X[index + self.seq_len : index + self.seq_len + self.shift],\n",
    "            self.fX[index + self.seq_len : index + self.seq_len + self.shift],\n",
    "        )\n",
    "        return sample\n",
    "\n",
    "    def __len__(self):\n",
    "        return len(self.X) - self.seq_len - self.shift"
   ]
  },
  {
   "cell_type": "code",
   "execution_count": 125,
   "metadata": {},
   "outputs": [],
   "source": [
    "# specific time series dataset of a noisy sine wave  \n",
    "class SineSyntheticDataset(TimeSeriesDataset):\n",
    "    def __init__(\n",
    "        self,\n",
    "        len_timeseries: int,\n",
    "        seq_len: int,\n",
    "        shift: int,\n",
    "        alpha: float = 0.1,\n",
    "        noise: float = 0.1\n",
    "    ):\n",
    "\n",
    "        X = torch.arange(0, len_timeseries, dtype=torch.float32).reshape(-1, 1)\n",
    "        fX = torch.sin(alpha * X) + torch.randn_like(X) * noise\n",
    "        super().__init__(X, fX, seq_len, shift)"
   ]
  },
  {
   "cell_type": "code",
   "execution_count": 106,
   "metadata": {},
   "outputs": [
    {
     "data": {
      "text/plain": [
       "<matplotlib.legend.Legend at 0x27e11f9e890>"
      ]
     },
     "execution_count": 106,
     "metadata": {},
     "output_type": "execute_result"
    },
    {
     "data": {
      "image/png": "[encoded data removed]",
      "text/plain": [
       "<Figure size 640x480 with 1 Axes>"
      ]
     },
     "metadata": {},
     "output_type": "display_data"
    }
   ],
   "source": [
    "# let's test our dataset\n",
    "dataset = SineSyntheticDataset(\n",
    "    len_timeseries=5000, \n",
    "    seq_len=100,\n",
    "    shift=1,\n",
    "    alpha=0.1,\n",
    "    noise=0.1\n",
    ")\n",
    "\n",
    "##############################\n",
    "### take a sample from dataset \n",
    "### and plot src_x, src_fx\n",
    "### and plot tgt_x, tgt_fx\n",
    "### write code here\n",
    "##############################"
   ]
  },
  {
   "cell_type": "markdown",
   "metadata": {},
   "source": [
    "## Define train and validation steps\n",
    "\n",
    "It is good practice to encapsulate a single training and validation step in their own separate functions. \n",
    "\n",
    "Notice the differences between train/valid steps:\n",
    "- `train_step` trains for a single epoch over a given dataloader, where the optimizer is used to perform gradient descent. Additionally, the gradients are clipped as to ensure that gradients do not explode. \n",
    "- `valid_step` validates for a single epoch over a given dataloader, without optimizer and within a `no_grad()` context so that no gradients are calculated. \n",
    "\n",
    "We use the MSE loss in this case to make single point predictions. The MSE loss implicitly regularizes the predictions such that the predictions converge to the mean prediction. In the case of volatile time series, the MSE loss may not be desired, due to the large variance of the volatility in the sequences. The MSE loss converges to the mean, meaning that predictions will deviate too much from the target. Instead, the Mean Absolute Error (MAE) could pose as an alternative, because the MAE converges to the median (instead of the mean). The median is a reliable averaging metric in situations where there are a lot of outliers (e.g., in volatile time series). \n",
    "\n",
    "If the desired output instead should be probabilistic, then we need to predict an interval. In this case, we can use Quantile loss, where we predict different percentiles of the output. Common quantiles are `[0.1, 0.5, 0.9]`, which means that we predict the $10\\%$, $50\\%$, $90\\%$ quantiles. This is a nice option, as it provides some interpretability with respect to how much the model is certain about its predictions. Also notice that the $50\\%$ quantile is the same as the median, i.e., it is the same as the MAE.\n",
    "\n",
    "In the following, we simply use the MSE loss. "
   ]
  },
  {
   "cell_type": "code",
   "execution_count": 107,
   "metadata": {},
   "outputs": [],
   "source": [
    "from torch.utils.data import DataLoader\n",
    "\n",
    "def train_step(\n",
    "        model: nn.Module, \n",
    "        dataloader: DataLoader, \n",
    "        optimizer: torch.optim,\n",
    "        shift: int, \n",
    "        device: torch.device,\n",
    "        grad_clip_val: int = 1\n",
    "    ):\n",
    "    model.train()\n",
    "    batch_loss = []\n",
    "    for _, batch_X, _, batch_y in dataloader:\n",
    "        batch_X = batch_X.to(device)\n",
    "        batch_y = batch_y.to(device)\n",
    "        \n",
    "        optimizer.zero_grad()\n",
    "        y_pred, _ = model(batch_X)\n",
    "        loss = F.mse_loss(y_pred[:, -shift:], batch_y)\n",
    "\n",
    "        loss.backward()\n",
    "        ##############################\n",
    "        ### apply gradient clipping to the model parameters\n",
    "        ### use torch.nn.utils.clip_grad_norm_ with the grad_clip_val\n",
    "        ### write code here\n",
    "        ##############################\n",
    "        optimizer.step()\n",
    "\n",
    "        batch_loss.append(loss.detach().item())\n",
    "\n",
    "    return np.sum(batch_loss) / len(batch_loss)\n",
    "\n",
    "def valid_step(\n",
    "        model: nn.Module, \n",
    "        dataloader: DataLoader,\n",
    "        shift: int, \n",
    "        device: torch.device,\n",
    "    ):\n",
    "    model.eval()\n",
    "    batch_loss = []\n",
    "    with torch.no_grad():\n",
    "        for _, batch_X, _, batch_y in dataloader:\n",
    "            batch_X = batch_X.to(device)\n",
    "            batch_y = batch_y.to(device)\n",
    "            \n",
    "            y_pred, _ = model(batch_X)\n",
    "            loss = F.mse_loss(y_pred[:, -shift:], batch_y)\n",
    "\n",
    "            batch_loss.append(loss.detach().item())\n",
    "\n",
    "    return np.sum(batch_loss) / len(batch_loss)"
   ]
  },
  {
   "cell_type": "markdown",
   "metadata": {},
   "source": [
    "## Setup + train loop\n",
    "\n",
    "Let's define some constants "
   ]
  },
  {
   "cell_type": "code",
   "execution_count": 109,
   "metadata": {},
   "outputs": [],
   "source": [
    "# Model constants\n",
    "N_HIDDEN = 64\n",
    "N_LAYERS = 1\n",
    "DROPOUT_RATE = 0.0\n",
    "\n",
    "# Training constants\n",
    "EPOCHS = 50\n",
    "BATCH_SIZE = 64\n",
    "LEARNING_RATE = 0.0001\n",
    "\n",
    "# Dataset constants\n",
    "LEN_TIMESERIES = 5000\n",
    "SEQ_LEN = 20\n",
    "SHIFT = 1\n",
    "\n",
    "# check for possible GPU usage\n",
    "DEVICE = torch.device('cuda') if torch.cuda.is_available() else torch.device('cpu')"
   ]
  },
  {
   "cell_type": "markdown",
   "metadata": {},
   "source": [
    "We create a synthetic sine wave dataset with some added noise. We split this time series in 3 parts, i.e., training part, validation part, and test part. \n",
    "\n",
    "- `train_set` consists of the first 80 percent of the time series and will be used to optimize our model\n",
    "- `valid_set` consists of the next 10 percent of the time series and will be used to monitor whether the model is over/underfitting\n",
    "- `test_set` consists of the last 10 percent of the time series and will be used to test the model **once** after training has finished. We will also use this set for predictions."
   ]
  },
  {
   "cell_type": "code",
   "execution_count": 111,
   "metadata": {},
   "outputs": [],
   "source": [
    "from torch.utils.data import DataLoader\n",
    "\n",
    "dataset = SineSyntheticDataset(\n",
    "    len_timeseries=LEN_TIMESERIES, \n",
    "    seq_len=SEQ_LEN,\n",
    "    shift=SHIFT,\n",
    "    alpha=0.1,\n",
    "    noise=0.1\n",
    ")\n",
    "\n",
    "train_size = int(0.8 * LEN_TIMESERIES)\n",
    "valid_size = int(0.1 * LEN_TIMESERIES)\n",
    "\n",
    "train_set = torch.utils.data.Subset(dataset, range(train_size))\n",
    "valid_set = torch.utils.data.Subset(dataset, range(train_size, train_size + valid_size))\n",
    "test_set = torch.utils.data.Subset(dataset, range(train_size + valid_size, LEN_TIMESERIES))\n",
    "\n",
    "train_dataloader = DataLoader(train_set, batch_size=BATCH_SIZE, shuffle=True, drop_last=True)\n",
    "valid_dataloader = DataLoader(valid_set, batch_size=BATCH_SIZE, shuffle=True, drop_last=True)\n",
    "test_dataloader = DataLoader(test_set, batch_size=BATCH_SIZE, shuffle=False, drop_last=True)"
   ]
  },
  {
   "cell_type": "markdown",
   "metadata": {},
   "source": [
    "Let's train the model and plot the loss curves"
   ]
  },
  {
   "cell_type": "code",
   "execution_count": 112,
   "metadata": {
    "ExecuteTime": {
     "end_time": "2024-02-28T22:12:54.779290Z",
     "start_time": "2024-02-28T22:01:50.622163Z"
    }
   },
   "outputs": [
    {
     "name": "stderr",
     "output_type": "stream",
     "text": [
      "c:\\Users\\janba\\anaconda3\\envs\\workspace_jan\\Lib\\site-packages\\torch\\nn\\modules\\lazy.py:181: UserWarning: Lazy modules are a new feature under heavy development so changes to the API or functionality can happen at any moment.\n",
      "  warnings.warn('Lazy modules are a new feature under heavy development '\n"
     ]
    },
    {
     "name": "stdout",
     "output_type": "stream",
     "text": [
      "epoch=0\ttrain_loss=0.3881729913334693\tvalid_loss=0.2784332590443747\n",
      "epoch=1\ttrain_loss=0.173774108050331\tvalid_loss=0.10117730072566442\n",
      "epoch=2\ttrain_loss=0.05429552107929222\tvalid_loss=0.014144871117813247\n",
      "epoch=3\ttrain_loss=0.015039623820132787\tvalid_loss=0.01383878437003919\n",
      "epoch=4\ttrain_loss=0.01470118468146651\tvalid_loss=0.013227652226175581\n",
      "epoch=5\ttrain_loss=0.014242873572173619\tvalid_loss=0.013042822613247804\n",
      "epoch=6\ttrain_loss=0.013910744804888964\tvalid_loss=0.013150196788566453\n",
      "epoch=7\ttrain_loss=0.013714655332507627\tvalid_loss=0.01281980997217553\n",
      "epoch=8\ttrain_loss=0.013628929222543393\tvalid_loss=0.013072724720197064\n",
      "epoch=9\ttrain_loss=0.013448145781313219\tvalid_loss=0.012113118012036597\n",
      "epoch=10\ttrain_loss=0.013291578184092236\tvalid_loss=0.012115475056426865\n",
      "epoch=11\ttrain_loss=0.013204770726001552\tvalid_loss=0.011786912967051779\n",
      "epoch=12\ttrain_loss=0.013006476099572836\tvalid_loss=0.011993672432644027\n",
      "epoch=13\ttrain_loss=0.012853103209166758\tvalid_loss=0.011544889371309961\n",
      "epoch=14\ttrain_loss=0.012808604796807612\tvalid_loss=0.012196260903562819\n",
      "epoch=15\ttrain_loss=0.012676019552013567\tvalid_loss=0.011363757641187735\n",
      "epoch=16\ttrain_loss=0.01281443499629536\tvalid_loss=0.01199770120105573\n",
      "epoch=17\ttrain_loss=0.012687487047045462\tvalid_loss=0.011506414307015283\n",
      "epoch=18\ttrain_loss=0.012424083576808053\tvalid_loss=0.011408633685537748\n",
      "epoch=19\ttrain_loss=0.01243945179627307\tvalid_loss=0.011550039452101504\n",
      "epoch=20\ttrain_loss=0.012427216666119715\tvalid_loss=0.011432874681694167\n",
      "epoch=21\ttrain_loss=0.012258795225211689\tvalid_loss=0.01087712696088212\n",
      "epoch=22\ttrain_loss=0.012048992914177718\tvalid_loss=0.011428671889007092\n",
      "epoch=23\ttrain_loss=0.012203245408712857\tvalid_loss=0.011374973958092076\n",
      "epoch=24\ttrain_loss=0.012125440099607072\tvalid_loss=0.011722670335854803\n",
      "epoch=25\ttrain_loss=0.012010649710352863\tvalid_loss=0.011332746794713395\n",
      "epoch=26\ttrain_loss=0.011827560374513268\tvalid_loss=0.011315311172178813\n",
      "epoch=27\ttrain_loss=0.011931033189138096\tvalid_loss=0.010874142670737845\n",
      "epoch=28\ttrain_loss=0.011830984359426845\tvalid_loss=0.010537644648658378\n",
      "epoch=29\ttrain_loss=0.011753250529328662\tvalid_loss=0.010723862663975783\n",
      "epoch=30\ttrain_loss=0.011648027827182123\tvalid_loss=0.010850881891591209\n",
      "epoch=31\ttrain_loss=0.011660629365172598\tvalid_loss=0.01094500268144267\n",
      "epoch=32\ttrain_loss=0.011782850003651073\tvalid_loss=0.010519181777323996\n",
      "epoch=33\ttrain_loss=0.011629661117049475\tvalid_loss=0.011104373527424676\n",
      "epoch=34\ttrain_loss=0.011563761294969627\tvalid_loss=0.011260426337165492\n",
      "epoch=35\ttrain_loss=0.011680284214596595\tvalid_loss=0.0103040946913617\n",
      "epoch=36\ttrain_loss=0.011837237176575487\tvalid_loss=0.010573633813432284\n",
      "epoch=37\ttrain_loss=0.011665330388613285\tvalid_loss=0.0106788430629032\n",
      "epoch=38\ttrain_loss=0.011553056538105011\tvalid_loss=0.010761719729219164\n",
      "epoch=39\ttrain_loss=0.011514008631028475\tvalid_loss=0.01016329468360969\n",
      "epoch=40\ttrain_loss=0.01151562453578076\tvalid_loss=0.010736784764698573\n",
      "epoch=41\ttrain_loss=0.011621997015730988\tvalid_loss=0.010727691663695233\n",
      "epoch=42\ttrain_loss=0.011481906497670759\tvalid_loss=0.011402241752615996\n",
      "epoch=43\ttrain_loss=0.011567314050250476\tvalid_loss=0.010771968668060643\n",
      "epoch=44\ttrain_loss=0.011526591565099454\tvalid_loss=0.010548906134707587\n",
      "epoch=45\ttrain_loss=0.011706413385728675\tvalid_loss=0.010748907790652342\n",
      "epoch=46\ttrain_loss=0.011340377904895333\tvalid_loss=0.010674365130918366\n",
      "epoch=47\ttrain_loss=0.011274307079973721\tvalid_loss=0.010608922424060958\n",
      "epoch=48\ttrain_loss=0.01151068732442875\tvalid_loss=0.010779604448803834\n",
      "epoch=49\ttrain_loss=0.011448980196409168\tvalid_loss=0.01044662163725921\n"
     ]
    },
    {
     "data": {
      "text/plain": [
       "<matplotlib.legend.Legend at 0x27e14576850>"
      ]
     },
     "execution_count": 112,
     "metadata": {},
     "output_type": "execute_result"
    },
    {
     "data": {
      "image/png": "[encoded data removed]",
      "text/plain": [
       "<Figure size 640x480 with 1 Axes>"
      ]
     },
     "metadata": {},
     "output_type": "display_data"
    }
   ],
   "source": [
    "rnn = MyRNN(\n",
    "    num_inputs=1, \n",
    "    num_hidden=N_HIDDEN,\n",
    "    num_outputs=1, \n",
    "    n_layers=N_LAYERS,\n",
    "    dropout=DROPOUT_RATE, \n",
    ").to(DEVICE)\n",
    "\n",
    "optim = torch.optim.Adam(rnn.parameters(), LEARNING_RATE)\n",
    "\n",
    "train_losses, valid_losses = [], []\n",
    "\n",
    "for i in range(EPOCHS):\n",
    "    \n",
    "    ##############################\n",
    "    ### call the train_step function and store the train_loss\n",
    "    ### write code here\n",
    "    ##############################\n",
    "\n",
    "    \n",
    "    ##############################\n",
    "    ### call the valid_step function and store the validation_loss\n",
    "    ### write code here\n",
    "    ##############################\n",
    "    \n",
    "    print(f\"epoch={i}\\ttrain_loss={train_losses[-1]}\\tvalid_loss={valid_losses[-1]}\")\n",
    "\n",
    "plt.plot(train_losses, label=\"training loss\")\n",
    "plt.plot(valid_losses, label=\"validation loss\")\n",
    "plt.legend()"
   ]
  },
  {
   "cell_type": "markdown",
   "metadata": {},
   "source": [
    "Since the RNN model takes a sequence as its input and outputs the next value, we can make auto-regressive predictions. This means that we take the prediction and concatenate it to our input "
   ]
  },
  {
   "cell_type": "code",
   "execution_count": 117,
   "metadata": {},
   "outputs": [
    {
     "data": {
      "text/plain": [
       "<matplotlib.legend.Legend at 0x27e143c2710>"
      ]
     },
     "execution_count": 117,
     "metadata": {},
     "output_type": "execute_result"
    },
    {
     "data": {
      "image/png": "[encoded data removed]",
      "text/plain": [
       "<Figure size 640x480 with 1 Axes>"
      ]
     },
     "metadata": {},
     "output_type": "display_data"
    }
   ],
   "source": [
    "idx = 0\n",
    "horizon = 50\n",
    "\n",
    "src_x, src_fx, tgt_x, tgt_fx = test_set[idx]\n",
    "\n",
    "output = src_fx.flatten().tolist()\n",
    "tgt_X, tgt_fX = [], []\n",
    "\n",
    "\n",
    "with torch.no_grad():\n",
    "\n",
    "    for i in range(horizon):\n",
    "        \n",
    "        _, _, tgt_x, tgt_fx = test_set[idx+i]\n",
    "\n",
    "        ##############################\n",
    "        ### take last SEQ_LEN values of output\n",
    "        ### predict using rnn model\n",
    "        ### append last value of prediction to output\n",
    "        ### write code here\n",
    "        ##############################\n",
    "\n",
    "        tgt_X.append(tgt_x.item())\n",
    "        tgt_fX.append(tgt_fx.item())\n",
    "\n",
    "plt.plot(src_x, src_fx, 'r', label='source')\n",
    "plt.plot(tgt_X, tgt_fX, 'g', label='target')\n",
    "plt.plot(tgt_X, output[len(src_fx):], '--b', label='prediction')\n",
    "plt.legend()"
   ]
  },
  {
   "cell_type": "markdown",
   "metadata": {},
   "source": [
    "# Long Short-Term Memory (LSTM)\n",
    "\n",
    "The original RNN model suffers from so-called ``Long-Term Dependencies''. The basic problem is that given a long sequence, the gradients of the model parameters of this sequence tend to either vanish (most of the time) or explode (rarely, but with much damage to the optimization process). Vanishing/exploding gradients occur because the (simplified) recurrence relationship $\\mathbf{h}^{(t)} = \\mathbf{W}\\; \\mathbf{h}^{(t-1)}$ is applied many times in longer sequences. As a result, in the unfolded RNN, many multiplication operations are performed. This leads to again many multiplications during backpropagation. \n",
    "\n",
    "Now if we consider a value $w$ which is between zero and one, then in the limit $w^n \\rightarrow 0$ as $n$ approaches $\\infty$. If instead $w > 1$, then in the limit $w^n \\rightarrow \\infty$ as $n$ approaches $\\infty$. This is precisely where both the vanishing/exploding gradients come from. This problem is particular to RNNs because of this recurrence relationship where we multiply the same weights by itself.  \n",
    "\n",
    "Even if we assume that the parameters of the RNN are learned to be stable (with gradients not vanishing nor exploding), the difficulty of long-term dependencies arises from the exponentially smaller weights given to long-term interactions. As a result, in the forward pass, more weight is given to short-term dependencies, which may be detrimental when the sequence should attend to long-term dependencies.  \n",
    "\n",
    "Some of these issues can be resolved by using **Gated RNNs**. These include the **Long Short-Term Memory (LSTM)** and the **Gated Recurrent Unit (GRU)**. For now let's consider the LSTM. The main idea is to introduce gates into the RNN similar to electrical gates that regulate the amount of voltage that is able to flow. This gating mechanism is also referred to as a *Leaky unit* (as the gate may leak a bit of information to the future). LSTM uses 3 gates, i.e., input, output, and forget gates. \n",
    "- **Input gate** decides what values of the hidden state to update\n",
    "- **Output gate** decides what the new hidden state will be\n",
    "- **Forget gate** decides what information to throw away (forget)\n",
    "\n",
    "Let's see how we can implement the LSTM in PyTorch"
   ]
  },
  {
   "cell_type": "code",
   "execution_count": 118,
   "metadata": {},
   "outputs": [],
   "source": [
    "class MyLSTM(nn.Module):\n",
    "    def __init__(self, \n",
    "                 num_inputs: int, \n",
    "                 num_hidden: int, \n",
    "                 num_outputs: int, \n",
    "                 n_layers: int,\n",
    "                 dropout: float = 0.5) -> None:\n",
    "        super().__init__()\n",
    "        self.lstm = nn.LSTM(num_inputs, num_hidden, num_layers=n_layers, dropout=dropout, batch_first=True)\n",
    "        self.out_layer = nn.LazyLinear(num_outputs)\n",
    "    \n",
    "    def forward(self, X: torch.Tensor, H: torch.Tensor = None):\n",
    "        output, H = self.lstm(X, H)\n",
    "        return self.out_layer(output), H"
   ]
  },
  {
   "cell_type": "markdown",
   "metadata": {},
   "source": [
    "## Applying LSTM on simple noisy sine wave\n",
    "\n",
    "Let's define some constants"
   ]
  },
  {
   "cell_type": "code",
   "execution_count": null,
   "metadata": {},
   "outputs": [],
   "source": [
    "# Model constants\n",
    "N_HIDDEN = 64\n",
    "N_LAYERS = 1\n",
    "DROPOUT_RATE = 0.0\n",
    "\n",
    "# Training constants\n",
    "EPOCHS = 50\n",
    "BATCH_SIZE = 64\n",
    "LEARNING_RATE = 0.0001\n",
    "\n",
    "# Dataset constants\n",
    "LEN_TIMESERIES = 5000\n",
    "SEQ_LEN = 20\n",
    "SHIFT = 1\n",
    "\n",
    "# check for possible GPU usage\n",
    "DEVICE = torch.device('cuda') if torch.cuda.is_available() else torch.device('cpu')"
   ]
  },
  {
   "cell_type": "markdown",
   "metadata": {},
   "source": [
    "Same as before, we create a synthetic sine wave dataset with some added noise. We split this time series in 3 parts, i.e., training part, validation part, and test part. \n",
    "\n",
    "- `train_set` consists of the first 80 percent of the time series and will be used to optimize our model\n",
    "- `valid_set` consists of the next 10 percent of the time series and will be used to monitor whether the model is over/underfitting\n",
    "- `test_set` consists of the last 10 percent of the time series and will be used to test the model **once** after training has finished. We will also use this set for predictions."
   ]
  },
  {
   "cell_type": "code",
   "execution_count": 119,
   "metadata": {},
   "outputs": [],
   "source": [
    "from torch.utils.data import DataLoader\n",
    "\n",
    "##############################\n",
    "### create dataset with same parameters as before\n",
    "### split according to 0.8/0.1/0.1 distribution\n",
    "### create train/test/validation data loaders\n",
    "### write code here\n",
    "##############################"
   ]
  },
  {
   "cell_type": "markdown",
   "metadata": {},
   "source": [
    "Again, we train the model and monitor/plot the loss curves"
   ]
  },
  {
   "cell_type": "code",
   "execution_count": null,
   "metadata": {},
   "outputs": [],
   "source": [
    "##############################\n",
    "### create MyLSTM model with correct model parameters\n",
    "### create optimizer (Adam or SGD)\n",
    "### create training loop that calls train_step and valid_step functions\n",
    "### write code here\n",
    "##############################"
   ]
  },
  {
   "cell_type": "markdown",
   "metadata": {},
   "source": [
    "Let's make some auto-regressive predictions"
   ]
  },
  {
   "cell_type": "code",
   "execution_count": null,
   "metadata": {},
   "outputs": [],
   "source": [
    "##############################\n",
    "### predict for a given horizon in an autoregressive manner for LSTM\n",
    "### write code here\n",
    "##############################"
   ]
  },
  {
   "cell_type": "markdown",
   "metadata": {},
   "source": [
    "## Applying LSTM on a periodic curve time series\n",
    "\n",
    "We re-define some constants"
   ]
  },
  {
   "cell_type": "code",
   "execution_count": 153,
   "metadata": {},
   "outputs": [],
   "source": [
    "# Model constants\n",
    "N_HIDDEN = 64\n",
    "N_LAYERS = 1\n",
    "DROPOUT_RATE = 0.0\n",
    "\n",
    "# Training constants\n",
    "EPOCHS = 100\n",
    "BATCH_SIZE = 64\n",
    "LEARNING_RATE = 0.0001\n",
    "\n",
    "# Dataset constants\n",
    "LEN_TIMESERIES = 5000\n",
    "SEQ_LEN = 128\n",
    "SHIFT = 1\n",
    "\n",
    "# check for possible GPU usage\n",
    "DEVICE = torch.device('cuda') if torch.cuda.is_available() else torch.device('cpu')"
   ]
  },
  {
   "cell_type": "markdown",
   "metadata": {},
   "source": [
    "This dataset is a bit more difficult as it is a combination of multiple sinusoidal functions. "
   ]
  },
  {
   "cell_type": "code",
   "execution_count": 154,
   "metadata": {},
   "outputs": [],
   "source": [
    "class PeriodicSyntheticDataset(TimeSeriesDataset):\n",
    "    \"\"\"\n",
    "    :param len_timeseries: total length of entire time series\n",
    "    :param A1, A2, A3: Control the timeseries periodic curves\n",
    "    \"\"\"\n",
    "\n",
    "    def __init__(\n",
    "        self,\n",
    "        len_timeseries: int,\n",
    "        seq_len: int,\n",
    "        shift: int,\n",
    "        noise: float,\n",
    "        A1: float, A2: float,\n",
    "        A3: float, A4: float,\n",
    "    ):\n",
    "\n",
    "        X = torch.arange(0, len_timeseries, dtype=torch.float32).reshape(-1, 1)\n",
    "\n",
    "        c1 = A1 * torch.sin(torch.pi * X[:12] / 6)\n",
    "        c2 = A2 * torch.sin(torch.pi * X[12:24] / 6)\n",
    "        c3 = A3 * torch.sin(torch.pi * X[24:96] / 6)\n",
    "        c4 = A4 * torch.sin(torch.pi * X[96:120] / 12)\n",
    "\n",
    "        fX = torch.cat([c1, c2, c3, c4], dim=0)  # concat components\n",
    "        fX = fX.repeat((len_timeseries + 120) // 120, 1)  # periodic repeats\n",
    "        fX = fX[:len_timeseries]  # constrain total length\n",
    "        fX = fX + noise * torch.randn(fX.shape)  # add noise\n",
    "\n",
    "        super().__init__(X, fX, seq_len, shift)"
   ]
  },
  {
   "cell_type": "code",
   "execution_count": 155,
   "metadata": {},
   "outputs": [],
   "source": [
    "from torch.utils.data import DataLoader\n",
    "\n",
    "dataset = PeriodicSyntheticDataset(\n",
    "    len_timeseries=LEN_TIMESERIES, \n",
    "    seq_len=SEQ_LEN,\n",
    "    shift=SHIFT,\n",
    "    noise=0.1,\n",
    "    A1=0.4, A2=0.6, A3=0.03, A4=0.6\n",
    ")\n",
    "\n",
    "train_size = int(0.8 * LEN_TIMESERIES)\n",
    "valid_size = int(0.1 * LEN_TIMESERIES)\n",
    "\n",
    "train_set = torch.utils.data.Subset(dataset, range(train_size))\n",
    "valid_set = torch.utils.data.Subset(dataset, range(train_size, train_size + valid_size))\n",
    "test_set = torch.utils.data.Subset(dataset, range(train_size + valid_size, LEN_TIMESERIES))\n",
    "\n",
    "train_dataloader = DataLoader(train_set, batch_size=BATCH_SIZE, shuffle=True, drop_last=True)\n",
    "valid_dataloader = DataLoader(valid_set, batch_size=BATCH_SIZE, shuffle=True, drop_last=True)\n",
    "test_dataloader = DataLoader(test_set, batch_size=BATCH_SIZE, shuffle=False, drop_last=True)"
   ]
  },
  {
   "cell_type": "code",
   "execution_count": null,
   "metadata": {},
   "outputs": [],
   "source": [
    "##############################\n",
    "### take a sample from dataset \n",
    "### and plot src_x, src_fx\n",
    "### and plot tgt_x, tgt_fx\n",
    "### write code here\n",
    "##############################"
   ]
  },
  {
   "cell_type": "markdown",
   "metadata": {},
   "source": [
    "Let's train the model and plot the loss curves"
   ]
  },
  {
   "cell_type": "code",
   "execution_count": null,
   "metadata": {},
   "outputs": [],
   "source": [
    "##############################\n",
    "### create MyLSTM model with correct model parameters\n",
    "### create optimizer (Adam or SGD)\n",
    "### create training loop that calls train_step and valid_step functions\n",
    "### write code here\n",
    "##############################"
   ]
  },
  {
   "cell_type": "markdown",
   "metadata": {},
   "source": [
    "In the below, we make auto-regressive predictions where you can see that the model somewhat learned the curving patterns. Since we are using batched SGD, you can see that we are not actively learning the noise, which is nice. "
   ]
  },
  {
   "cell_type": "code",
   "execution_count": null,
   "metadata": {},
   "outputs": [],
   "source": [
    "##############################\n",
    "### predict for a given horizon in an autoregressive manner for LSTM\n",
    "### write code here\n",
    "##############################"
   ]
  }
 ],
 "metadata": {
  "kernelspec": {
   "display_name": "Python 3 (ipykernel)",
   "language": "python",
   "name": "python3"
  },
  "language_info": {
   "codemirror_mode": {
    "name": "ipython",
    "version": 3
   },
   "file_extension": ".py",
   "mimetype": "text/x-python",
   "name": "python",
   "nbconvert_exporter": "python",
   "pygments_lexer": "ipython3",
   "version": "3.11.7"
  }
 },
 "nbformat": 4,
 "nbformat_minor": 2
}
